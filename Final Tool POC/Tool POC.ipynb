{
 "cells": [
  {
   "cell_type": "code",
   "execution_count": 1,
   "id": "aa4c974d",
   "metadata": {},
   "outputs": [],
   "source": [
    "import pandas as pd\n",
    "import matplotlib.pyplot as plt\n",
    "import seaborn as sns\n",
    "sns.set_style(\"darkgrid\")"
   ]
  },
  {
   "cell_type": "code",
   "execution_count": 24,
   "id": "253ab2aa",
   "metadata": {},
   "outputs": [
    {
     "data": {
      "text/plain": [
       "['airframe_type',\n",
       " 'airframe_name',\n",
       " 'hardware',\n",
       " 'software',\n",
       " 'MC_ROLL_P',\n",
       " 'MC_PITCH_P',\n",
       " 'MC_YAW_P',\n",
       " 'MC_ROLLRATE_P',\n",
       " 'MC_ROLLRATE_I',\n",
       " 'MC_ROLLRATE_D',\n",
       " 'MC_ROLLRATE_K',\n",
       " 'MC_PITCHRATE_P',\n",
       " 'MC_PITCHRATE_I',\n",
       " 'MC_PITCHRATE_D',\n",
       " 'MC_PITCHRATE_K',\n",
       " 'MC_YAWRATE_P',\n",
       " 'MC_YAWRATE_I',\n",
       " 'MC_YAWRATE_D',\n",
       " 'MC_YAWRATE_K']"
      ]
     },
     "execution_count": 24,
     "metadata": {},
     "output_type": "execute_result"
    }
   ],
   "source": [
    "df = pd.read_hdf(\"pid_statistics.hdf\")\n",
    "cols = list(df.columns)\n",
    "cols"
   ]
  },
  {
   "cell_type": "code",
   "execution_count": 26,
   "id": "48172023",
   "metadata": {},
   "outputs": [],
   "source": [
    "df.to_pickle(\"pid_statistics.pkl\")"
   ]
  },
  {
   "cell_type": "code",
   "execution_count": 12,
   "id": "b8713296",
   "metadata": {},
   "outputs": [
    {
     "data": {
      "text/plain": [
       "array(['PX4_FMU_V5', 'PX4_FMU_V6C', 'MRO_CTRL_ZERO_H7',\n",
       "       'CUBEPILOT_CUBEYELLOW', 'MODALAI_FC_V1', '', 'AUAV_X21',\n",
       "       'PX4_FMU_V3', 'CUBEPILOT_CUBEORANGE', 'PX4_FMU_V2', 'PX4_SITL',\n",
       "       'PX4_FMU_V4', 'CODEV_DP1000_V2', 'PX4_FMU_V6X', 'PX4_FMU_V4PRO',\n",
       "       'PX4_FMU_V5X', 'HOLYBRO_KAKUTEH7', 'UVIFY_CORE',\n",
       "       'MODALAI_RB5_FLIGHT', 'CUAV_NORA', 'DRONEYEE_ZYRACER',\n",
       "       'THEPEACH_K1', 'SKYPERSONIC_FC_V3', 'RING_ZEUS', 'DROTEK_IO_STAR',\n",
       "       'BEAGLEBONE_BLUE', 'AMOVLAB_P450', 'MATEK_H743', 'TEAL_FMU_V5_MK1',\n",
       "       'VANTAGE_VESPER', 'CODEV_AQUILA_V2', 'AMOVLAB_P230', 'CUAV_X7PRO',\n",
       "       'SKY_DRONES_SMARTAP_AIRLINK', 'CODEV_TALON1000', 'NXP_FMUK66_V3',\n",
       "       'HOLYBRO_KAKUTEF7', 'CODEV_DP1000', 'OMNIBUS_F4SD',\n",
       "       'MODALAI_FC_V2', 'MRO_X21', 'MRO_CTRL_ZERO_F7',\n",
       "       'HOLYBRO_DURANDAL_V1', 'MATEK_H743_SLIM', 'LUMENIER_FMU_V5',\n",
       "       'AEROFC_V1', 'RADIOLINK_MINIPIX_V1', 'PX4_SP20', 'PX4_FMU_V4GLUAS',\n",
       "       'SITL', 'ROBOTICAN_EFC', 'Spot-1', 'INTEL_AEROFC_V1', 'PX4_FC_111',\n",
       "       'EFYTECH_SITL', 'PX4_AIRPI2', 'GTEN_UPAIR3', 'tap-v18s02',\n",
       "       'INTEL_SS', 'EMLID_NAVIO2', 'LHCZ_SITL', 'MMC_SK3_V1', 'UVR_POWER',\n",
       "       'FCUVS_V2', 'AV_X_V1', 'NXPHLITE_V3', 'EAGLE', 'OCPOC',\n",
       "       'CRAZYFLIE', 'RPI', 'PHENIX_GH'], dtype=object)"
      ]
     },
     "execution_count": 12,
     "metadata": {},
     "output_type": "execute_result"
    }
   ],
   "source": [
    "df['hardware'].unique()"
   ]
  },
  {
   "cell_type": "code",
   "execution_count": 23,
   "id": "9d05222d",
   "metadata": {},
   "outputs": [
    {
     "data": {
      "text/plain": [
       "'{\"airframe_type\":\"Quadrotor\",\"airframe_name\":\"Generic Quadcopter, Quadrotor x\",\"hardware\":\"MMC_SK3_V1\",\"software\":\"3b5db11ad81dbb1f2cc7d297d708d2458591b7fe (branch: develop_sk3)\",\"MC_ROLL_P\":4.0,\"MC_PITCH_P\":4.0,\"MC_YAW_P\":2.5,\"MC_ROLLRATE_P\":0.200000003,\"MC_ROLLRATE_I\":0.1000000015,\"MC_ROLLRATE_D\":0.0080000004,\"MC_ROLLRATE_K\":null,\"MC_PITCHRATE_P\":0.1800000072,\"MC_PITCHRATE_I\":0.1299999952,\"MC_PITCHRATE_D\":0.0070000002,\"MC_PITCHRATE_K\":null,\"MC_YAWRATE_P\":0.6999999881,\"MC_YAWRATE_I\":0.200000003,\"MC_YAWRATE_D\":0.0,\"MC_YAWRATE_K\":null}'"
      ]
     },
     "execution_count": 23,
     "metadata": {},
     "output_type": "execute_result"
    }
   ],
   "source": [
    "# df = df.loc[df['airframe_type'] == 'Quadrotor']\n",
    "# df.to_hdf('pid_statistics.hdf', 'df')\n",
    "mode_df = df.loc[df['hardware'] == 'MMC_SK3_V1'].mode()\n",
    "mode_df.loc[0].to_json()"
   ]
  },
  {
   "cell_type": "code",
   "execution_count": 28,
   "id": "89658b74",
   "metadata": {},
   "outputs": [],
   "source": [
    "mode_df.drop(columns=['airframe_name', 'airframe_type', 'hardware','software'], inplace=True)"
   ]
  },
  {
   "cell_type": "code",
   "execution_count": 33,
   "id": "10d6b89c",
   "metadata": {},
   "outputs": [
    {
     "data": {
      "text/html": [
       "<div>\n",
       "<style scoped>\n",
       "    .dataframe tbody tr th:only-of-type {\n",
       "        vertical-align: middle;\n",
       "    }\n",
       "\n",
       "    .dataframe tbody tr th {\n",
       "        vertical-align: top;\n",
       "    }\n",
       "\n",
       "    .dataframe thead th {\n",
       "        text-align: right;\n",
       "    }\n",
       "</style>\n",
       "<table border=\"1\" class=\"dataframe\">\n",
       "  <thead>\n",
       "    <tr style=\"text-align: right;\">\n",
       "      <th></th>\n",
       "      <th>MC_ROLL_P</th>\n",
       "      <th>MC_PITCH_P</th>\n",
       "      <th>MC_YAW_P</th>\n",
       "      <th>MC_ROLLRATE_P</th>\n",
       "      <th>MC_ROLLRATE_I</th>\n",
       "      <th>MC_ROLLRATE_D</th>\n",
       "      <th>MC_ROLLRATE_K</th>\n",
       "      <th>MC_PITCHRATE_P</th>\n",
       "      <th>MC_PITCHRATE_I</th>\n",
       "      <th>MC_PITCHRATE_D</th>\n",
       "      <th>MC_PITCHRATE_K</th>\n",
       "      <th>MC_YAWRATE_P</th>\n",
       "      <th>MC_YAWRATE_I</th>\n",
       "      <th>MC_YAWRATE_D</th>\n",
       "      <th>MC_YAWRATE_K</th>\n",
       "    </tr>\n",
       "  </thead>\n",
       "  <tbody>\n",
       "    <tr>\n",
       "      <th>0</th>\n",
       "      <td>4.0</td>\n",
       "      <td>4.0</td>\n",
       "      <td>2.5</td>\n",
       "      <td>0.2</td>\n",
       "      <td>0.1</td>\n",
       "      <td>0.008</td>\n",
       "      <td>NaN</td>\n",
       "      <td>0.18</td>\n",
       "      <td>0.13</td>\n",
       "      <td>0.007</td>\n",
       "      <td>NaN</td>\n",
       "      <td>0.7</td>\n",
       "      <td>0.2</td>\n",
       "      <td>0.0</td>\n",
       "      <td>NaN</td>\n",
       "    </tr>\n",
       "  </tbody>\n",
       "</table>\n",
       "</div>"
      ],
      "text/plain": [
       "   MC_ROLL_P  MC_PITCH_P  MC_YAW_P  MC_ROLLRATE_P  MC_ROLLRATE_I  \\\n",
       "0        4.0         4.0       2.5            0.2            0.1   \n",
       "\n",
       "   MC_ROLLRATE_D  MC_ROLLRATE_K  MC_PITCHRATE_P  MC_PITCHRATE_I  \\\n",
       "0          0.008            NaN            0.18            0.13   \n",
       "\n",
       "   MC_PITCHRATE_D  MC_PITCHRATE_K  MC_YAWRATE_P  MC_YAWRATE_I  MC_YAWRATE_D  \\\n",
       "0           0.007             NaN           0.7           0.2           0.0   \n",
       "\n",
       "   MC_YAWRATE_K  \n",
       "0           NaN  "
      ]
     },
     "execution_count": 33,
     "metadata": {},
     "output_type": "execute_result"
    }
   ],
   "source": [
    "mode_df.round(3)"
   ]
  },
  {
   "cell_type": "code",
   "execution_count": 4,
   "id": "9e4f917d",
   "metadata": {
    "scrolled": false
   },
   "outputs": [],
   "source": [
    "# for col in cols[4:]:\n",
    "#     sns.histplot(data=df, x=col)\n",
    "#     plt.show()"
   ]
  },
  {
   "cell_type": "code",
   "execution_count": 5,
   "id": "8f3d2ee7",
   "metadata": {},
   "outputs": [],
   "source": [
    "# sns.histplot(data=raw_df, x=\"MC_ROLL_P\", hue=\"hardware\", legend=False)"
   ]
  },
  {
   "cell_type": "code",
   "execution_count": 6,
   "id": "d013bb92",
   "metadata": {},
   "outputs": [],
   "source": [
    "# sns.histplot(data=raw_df, x=\"MC_ROLL_P\", hue=\"software\", legend=False)"
   ]
  },
  {
   "cell_type": "code",
   "execution_count": 7,
   "id": "25e6a812",
   "metadata": {},
   "outputs": [],
   "source": [
    "# software_versions = list(raw_df['software'].unique())\n",
    "# for sw in software_versions:\n",
    "#     temp_df = raw_df.loc[raw_df['software'] == sw]\n",
    "#     sns.histplot(data=temp_df, x=\"MC_ROLL_P\")\n",
    "#     plt.show()\n",
    "# #     break"
   ]
  }
 ],
 "metadata": {
  "kernelspec": {
   "display_name": "Python [conda env:tf_gpu]",
   "language": "python",
   "name": "conda-env-tf_gpu-py"
  },
  "language_info": {
   "codemirror_mode": {
    "name": "ipython",
    "version": 3
   },
   "file_extension": ".py",
   "mimetype": "text/x-python",
   "name": "python",
   "nbconvert_exporter": "python",
   "pygments_lexer": "ipython3",
   "version": "3.9.7"
  }
 },
 "nbformat": 4,
 "nbformat_minor": 5
}
